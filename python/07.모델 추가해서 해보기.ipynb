{
 "cells": [
  {
   "cell_type": "code",
   "execution_count": null,
   "metadata": {},
   "outputs": [],
   "source": [
    "import glob\n",
    "from PIL import Image\n",
    "import matplotlib.pyplot as plt"
   ]
  },
  {
   "cell_type": "code",
   "execution_count": null,
   "metadata": {},
   "outputs": [],
   "source": [
    "# 아디다스 1번쨰 확인\n",
    "# 60 - 179번까지 좌우 반전 시켜야 됨\n",
    "i = 0\n",
    "for file in sorted(glob.glob('./Images/Adidas_1/*.jpg')):\n",
    "    img=Image.open(file)\n",
    "    print(f'{i}번째 이미지')\n",
    "    plt.imshow(img)\n",
    "    plt.show()\n",
    "    i += 1"
   ]
  },
  {
   "cell_type": "code",
   "execution_count": null,
   "metadata": {},
   "outputs": [],
   "source": [
    "# 반대쪽 한 것 추가해야 됨\n",
    "i = 0\n",
    "for file in sorted(glob.glob('./Images/Adidas_2/*.jpg')):\n",
    "    img=Image.open(file)\n",
    "    print(f'{i}번째 이미지')\n",
    "    plt.imshow(img)\n",
    "    plt.show()\n",
    "    i += 1"
   ]
  },
  {
   "cell_type": "code",
   "execution_count": null,
   "metadata": {},
   "outputs": [],
   "source": [
    "# 제대로 되어 있음\n",
    "i = 0\n",
    "for file in sorted(glob.glob('./Images/Converse_1/*.jpg')):\n",
    "    img=Image.open(file)\n",
    "    print(f'{i}번째 이미지')\n",
    "    plt.imshow(img)\n",
    "    plt.show()\n",
    "    i += 1"
   ]
  },
  {
   "cell_type": "code",
   "execution_count": null,
   "metadata": {},
   "outputs": [],
   "source": [
    "# converse_2 120개 추가 되야 됨\n",
    "i = 0\n",
    "for file in sorted(glob.glob('./Images/Converse_2/*.jpg')):\n",
    "    img=Image.open(file)\n",
    "    print(f'{i}번째 이미지')\n",
    "    plt.imshow(img)\n",
    "    plt.show()\n",
    "    i += 1"
   ]
  },
  {
   "cell_type": "code",
   "execution_count": null,
   "metadata": {},
   "outputs": [],
   "source": [
    "# 제대로 됨\n",
    "i = 0\n",
    "for file in sorted(glob.glob('./Images/Nike_1/*.jpg')):\n",
    "    img=Image.open(file)\n",
    "    print(f'{i}번째 이미지')\n",
    "    plt.imshow(img)\n",
    "    plt.show()\n",
    "    i += 1"
   ]
  },
  {
   "cell_type": "code",
   "execution_count": null,
   "metadata": {},
   "outputs": [],
   "source": [
    "# 120개 추가해야 됨\n",
    "i = 0\n",
    "for file in sorted(glob.glob('./Images/Nike_2/*.jpg')):\n",
    "    img=Image.open(file)\n",
    "    print(f'{i}번째 이미지')\n",
    "    plt.imshow(img)\n",
    "    plt.show()\n",
    "    i += 1"
   ]
  },
  {
   "cell_type": "code",
   "execution_count": null,
   "metadata": {},
   "outputs": [],
   "source": []
  }
 ],
 "metadata": {
  "kernelspec": {
   "display_name": "tf",
   "language": "python",
   "name": "python3"
  },
  "language_info": {
   "codemirror_mode": {
    "name": "ipython",
    "version": 3
   },
   "file_extension": ".py",
   "mimetype": "text/x-python",
   "name": "python",
   "nbconvert_exporter": "python",
   "pygments_lexer": "ipython3",
   "version": "3.10.4"
  },
  "orig_nbformat": 4
 },
 "nbformat": 4,
 "nbformat_minor": 2
}
