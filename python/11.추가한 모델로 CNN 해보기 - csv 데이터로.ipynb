{
 "cells": [
  {
   "cell_type": "code",
   "execution_count": null,
   "metadata": {},
   "outputs": [],
   "source": [
    "import keras"
   ]
  },
  {
   "cell_type": "code",
   "execution_count": null,
   "metadata": {},
   "outputs": [],
   "source": [
    "model = keras.models.load_model('./Model/six-shoes-model.h5')"
   ]
  },
  {
   "attachments": {},
   "cell_type": "markdown",
   "metadata": {},
   "source": [
    "### 실제 데이터 가져오기 - 타겟 아닌 것만"
   ]
  },
  {
   "cell_type": "code",
   "execution_count": null,
   "metadata": {},
   "outputs": [],
   "source": [
    "import pandas as pd"
   ]
  },
  {
   "cell_type": "code",
   "execution_count": null,
   "metadata": {},
   "outputs": [],
   "source": [
    "df = pd.read_csv('./Data/train+target.csv')\n",
    "df.head()"
   ]
  },
  {
   "cell_type": "code",
   "execution_count": null,
   "metadata": {},
   "outputs": [],
   "source": [
    "import numpy as np\n",
    "\n",
    "train = df.iloc[:,:-1]\n",
    "train_arr = np.array(train)"
   ]
  },
  {
   "cell_type": "code",
   "execution_count": null,
   "metadata": {},
   "outputs": [],
   "source": [
    "imgScaled = train_arr.reshape(-1,128,128,3)"
   ]
  },
  {
   "cell_type": "code",
   "execution_count": null,
   "metadata": {},
   "outputs": [],
   "source": [
    "ans = {\n",
    "    0 : 'adidas1',\n",
    "    1 : 'adidas2',\n",
    "    2 : 'converse1',\n",
    "    3 : 'converse2',\n",
    "    4 : 'nike1',\n",
    "    5 : 'nike2',\n",
    "}"
   ]
  },
  {
   "cell_type": "code",
   "execution_count": null,
   "metadata": {},
   "outputs": [],
   "source": [
    "j = 0\n",
    "for i in range(240 * j,240 * (j+1)):\n",
    "     answer = ans[np.argmax(model.predict(imgScaled[i:i+1],verbose=0))]\n",
    "     if answer != 'adidas1':\n",
    "          print(answer)\n",
    "\n",
    "j += 1"
   ]
  },
  {
   "cell_type": "code",
   "execution_count": null,
   "metadata": {},
   "outputs": [],
   "source": [
    "for i in range(240 * j,240 * (j+1)):\n",
    "     answer = ans[np.argmax(model.predict(imgScaled[i:i+1],verbose=0))]\n",
    "     if answer != 'adidas2':\n",
    "          print(answer)\n",
    "\n",
    "j += 1"
   ]
  },
  {
   "cell_type": "code",
   "execution_count": null,
   "metadata": {},
   "outputs": [],
   "source": [
    "for i in range(240 * j,240 * (j+1)):\n",
    "     answer = ans[np.argmax(model.predict(imgScaled[i:i+1],verbose=0))]\n",
    "     if answer != 'converse1':\n",
    "          print(answer)\n",
    "\n",
    "j += 1"
   ]
  },
  {
   "cell_type": "code",
   "execution_count": null,
   "metadata": {},
   "outputs": [],
   "source": [
    "for i in range(240 * j,240 * (j+1)):\n",
    "     answer = ans[np.argmax(model.predict(imgScaled[i:i+1],verbose=0))]\n",
    "     if answer != 'converse2':\n",
    "          print(answer)\n",
    "\n",
    "j += 1"
   ]
  },
  {
   "cell_type": "code",
   "execution_count": null,
   "metadata": {},
   "outputs": [],
   "source": [
    "for i in range(240 * j,240 * (j+1)):\n",
    "     answer = ans[np.argmax(model.predict(imgScaled[i:i+1],verbose=0))]\n",
    "     if answer != 'nike1':\n",
    "          print(answer)\n",
    "\n",
    "j += 1"
   ]
  },
  {
   "cell_type": "code",
   "execution_count": null,
   "metadata": {},
   "outputs": [],
   "source": [
    "for i in range(240 * j,240 * (j+1)):\n",
    "     answer = ans[np.argmax(model.predict(imgScaled[i:i+1],verbose=0))]\n",
    "     if answer != 'nike2':\n",
    "          print(answer)\n",
    "\n",
    "j += 1"
   ]
  },
  {
   "attachments": {},
   "cell_type": "markdown",
   "metadata": {},
   "source": [
    "### 우리 애는 다 맞혀요"
   ]
  },
  {
   "cell_type": "code",
   "execution_count": null,
   "metadata": {},
   "outputs": [],
   "source": []
  }
 ],
 "metadata": {
  "kernelspec": {
   "display_name": "tf",
   "language": "python",
   "name": "python3"
  },
  "language_info": {
   "codemirror_mode": {
    "name": "ipython",
    "version": 3
   },
   "file_extension": ".py",
   "mimetype": "text/x-python",
   "name": "python",
   "nbconvert_exporter": "python",
   "pygments_lexer": "ipython3",
   "version": "3.10.4"
  },
  "orig_nbformat": 4
 },
 "nbformat": 4,
 "nbformat_minor": 2
}
