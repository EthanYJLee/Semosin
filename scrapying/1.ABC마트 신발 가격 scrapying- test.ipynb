{
 "cells": [
  {
   "cell_type": "code",
   "execution_count": 5,
   "metadata": {},
   "outputs": [],
   "source": [
    "from bs4 import BeautifulSoup\n",
    "import urllib.request as req\n",
    "import time"
   ]
  },
  {
   "cell_type": "code",
   "execution_count": 6,
   "metadata": {},
   "outputs": [],
   "source": [
    "from selenium import webdriver\n",
    "from selenium.webdriver.chrome.service import Service\n",
    "from webdriver_manager.chrome import ChromeDriverManager\n",
    "from selenium.webdriver.common.by import By"
   ]
  },
  {
   "cell_type": "code",
   "execution_count": 7,
   "metadata": {},
   "outputs": [],
   "source": [
    "import pandas as pd"
   ]
  },
  {
   "cell_type": "code",
   "execution_count": 8,
   "metadata": {},
   "outputs": [
    {
     "name": "stderr",
     "output_type": "stream",
     "text": [
      "[WDM] - Downloading: 100%|██████████| 8.00M/8.00M [00:00<00:00, 51.0MB/s]\n"
     ]
    }
   ],
   "source": [
    "# Chrome Browser와 Chrome Driver Version 확인하기\n",
    "chrom_options = webdriver.ChromeOptions()\n",
    "driver = webdriver.Chrome(service=Service(ChromeDriverManager().install()),options=chrom_options)\n",
    "driver.get('https://abcmart.a-rt.com/')"
   ]
  },
  {
   "cell_type": "code",
   "execution_count": null,
   "metadata": {},
   "outputs": [],
   "source": [
    "# 브랜드 클릭\n",
    "xpath = '//*[@id=\"gnbMenuWrap\"]/ul/li[1]/a'\n",
    "driver.find_element(By.XPATH,xpath).click()"
   ]
  },
  {
   "cell_type": "code",
   "execution_count": null,
   "metadata": {},
   "outputs": [],
   "source": [
    "driver.find_element(By.XPATH,'//*[@id=\"brandSearch\"]').send_keys('nike')"
   ]
  },
  {
   "cell_type": "code",
   "execution_count": null,
   "metadata": {},
   "outputs": [],
   "source": [
    "xpath='//*[@id=\"brandNameN\"]/ul/li[4]/a/span[1]'\n",
    "driver.find_element(By.XPATH,xpath).click()"
   ]
  },
  {
   "cell_type": "code",
   "execution_count": null,
   "metadata": {},
   "outputs": [],
   "source": [
    "driver.execute_script('window.scrollTo(0, document.body.scrollHeight / 5);')"
   ]
  },
  {
   "cell_type": "code",
   "execution_count": null,
   "metadata": {},
   "outputs": [],
   "source": [
    "xpath = '//*[@id=\"isubCatListLi1000000441\"]/div[1]'\n",
    "driver.find_element(By.XPATH,xpath).click()\n",
    "xpath = '//*[@id=\"isubCatListLi1000000441\"]/div[2]/ul/li[1]/span/label'\n",
    "driver.find_element(By.XPATH,xpath).click()"
   ]
  },
  {
   "cell_type": "code",
   "execution_count": null,
   "metadata": {},
   "outputs": [],
   "source": [
    "html = driver.page_source\n",
    "soup = BeautifulSoup(html, 'html.parser') "
   ]
  },
  {
   "cell_type": "code",
   "execution_count": null,
   "metadata": {},
   "outputs": [],
   "source": [
    "prodBrand=soup.select('.prod-brand')\n",
    "prodName = soup.select('.prod-name')\n",
    "prodPrice = soup.select('.price-cost')\n",
    "prodImage = soup.select('.search-prod-image')"
   ]
  },
  {
   "cell_type": "code",
   "execution_count": null,
   "metadata": {},
   "outputs": [],
   "source": [
    "brand = []\n",
    "name = []\n",
    "price = []\n",
    "for i in range(7,37):\n",
    "    brand.append(prodBrand[i].string)\n",
    "    name.append(prodName[i].string)\n",
    "    price.append(prodPrice[i].string.strip('\\n''\\t').replace(',',''))"
   ]
  },
  {
   "cell_type": "code",
   "execution_count": null,
   "metadata": {},
   "outputs": [],
   "source": [
    "df = pd.DataFrame({\n",
    "    'brand':brand,\n",
    "    'name':name,\n",
    "    'price':price\n",
    "})"
   ]
  },
  {
   "cell_type": "code",
   "execution_count": null,
   "metadata": {},
   "outputs": [],
   "source": [
    "df"
   ]
  },
  {
   "cell_type": "code",
   "execution_count": null,
   "metadata": {},
   "outputs": [],
   "source": [
    "# 이미지 다운로드\n",
    "i = 0\n",
    "\n",
    "for image in prodImage:\n",
    "    url = image.attrs['src']\n",
    "    saveName = f'./신발 이미지/nike/{df[\"name\"][i]}.jpg'\n",
    "\n",
    "    try:\n",
    "        req.urlretrieve(url, saveName)\n",
    "    except Exception as e:\n",
    "        print(e)\n",
    "    \n",
    "    i += 1"
   ]
  },
  {
   "cell_type": "code",
   "execution_count": null,
   "metadata": {},
   "outputs": [],
   "source": [
    "xpath='//*[@id=\"pagingDiv\"]/div/ol/li[2]/button'\n",
    "driver.find_element(By.XPATH,xpath).click()"
   ]
  },
  {
   "cell_type": "code",
   "execution_count": null,
   "metadata": {},
   "outputs": [],
   "source": [
    "time.sleep(5)"
   ]
  },
  {
   "cell_type": "code",
   "execution_count": null,
   "metadata": {},
   "outputs": [],
   "source": [
    "driver.execute_script('window.scrollTo(0, document.body.scrollHeight / 5);')\n",
    "\n",
    "html = driver.page_source\n",
    "soup = BeautifulSoup(html, 'html.parser') \n",
    "\n",
    "prodBrand=soup.select('.prod-brand')\n",
    "prodName = soup.select('.prod-name')\n",
    "prodPrice = soup.select('.price-cost')\n",
    "prodImage = soup.select('.search-prod-image')\n",
    "\n",
    "brand = []\n",
    "name = []\n",
    "price = []\n",
    "for i in range(7,37):\n",
    "    brand.append(prodBrand[i].string)\n",
    "    name.append(prodName[i].string)\n",
    "    price.append(prodPrice[i].string.strip('\\n''\\t').replace(',',''))\n",
    "\n",
    "df2 = pd.DataFrame({\n",
    "    'brand':brand,\n",
    "    'name':name,\n",
    "    'price':price\n",
    "})\n",
    "\n",
    "# 이미지 다운로드\n",
    "i = 0\n",
    "\n",
    "for image in prodImage:\n",
    "    url = image.attrs['src']\n",
    "    saveName = f'./신발 이미지/nike/{df2[\"name\"][i]}.jpg'\n",
    "\n",
    "    try:\n",
    "        req.urlretrieve(url, saveName)\n",
    "    except Exception as e:\n",
    "        print(e)\n",
    "    \n",
    "    i += 1"
   ]
  },
  {
   "cell_type": "code",
   "execution_count": null,
   "metadata": {},
   "outputs": [],
   "source": [
    "df=pd.concat([df,df2])\n",
    "df.reset_index(drop=True)"
   ]
  },
  {
   "cell_type": "code",
   "execution_count": null,
   "metadata": {},
   "outputs": [],
   "source": []
  }
 ],
 "metadata": {
  "kernelspec": {
   "display_name": "tensorflow_env",
   "language": "python",
   "name": "python3"
  },
  "language_info": {
   "codemirror_mode": {
    "name": "ipython",
    "version": 3
   },
   "file_extension": ".py",
   "mimetype": "text/x-python",
   "name": "python",
   "nbconvert_exporter": "python",
   "pygments_lexer": "ipython3",
   "version": "3.11.0"
  },
  "orig_nbformat": 4
 },
 "nbformat": 4,
 "nbformat_minor": 2
}
