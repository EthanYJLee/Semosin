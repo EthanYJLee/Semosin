{
 "cells": [
  {
   "cell_type": "code",
   "execution_count": 1,
   "metadata": {},
   "outputs": [],
   "source": [
    "from module.abcmart import scrapying_converse"
   ]
  },
  {
   "cell_type": "code",
   "execution_count": 3,
   "metadata": {},
   "outputs": [],
   "source": [
    "scrapying_converse('converse','C')"
   ]
  },
  {
   "cell_type": "code",
   "execution_count": 4,
   "metadata": {},
   "outputs": [
    {
     "data": {
      "text/plain": [
       "29"
      ]
     },
     "execution_count": 4,
     "metadata": {},
     "output_type": "execute_result"
    }
   ],
   "source": [
    "import glob\n",
    "\n",
    "len(glob.glob('./신발 이미지/converse/*.jpg'))"
   ]
  },
  {
   "cell_type": "code",
   "execution_count": 5,
   "metadata": {},
   "outputs": [],
   "source": [
    "import pandas as pd\n",
    "df = pd.read_csv('./csv/converse.csv')"
   ]
  },
  {
   "cell_type": "code",
   "execution_count": 6,
   "metadata": {},
   "outputs": [],
   "source": [
    "imageNames = glob.glob('./신발 이미지/converse/*.jpg')"
   ]
  },
  {
   "cell_type": "code",
   "execution_count": 7,
   "metadata": {},
   "outputs": [
    {
     "data": {
      "text/plain": [
       "29"
      ]
     },
     "execution_count": 7,
     "metadata": {},
     "output_type": "execute_result"
    }
   ],
   "source": [
    "uniqueName = []\n",
    "for image in imageNames:\n",
    "    uniqueName.append(image.split('/')[3].split('-')[1].replace('.jpg',''))\n",
    "\n",
    "len(uniqueName)"
   ]
  },
  {
   "cell_type": "code",
   "execution_count": 8,
   "metadata": {},
   "outputs": [],
   "source": [
    "index=df['name'].drop_duplicates()"
   ]
  },
  {
   "cell_type": "code",
   "execution_count": 9,
   "metadata": {},
   "outputs": [],
   "source": [
    "df = df.loc[list(index.index),:]"
   ]
  },
  {
   "cell_type": "code",
   "execution_count": 10,
   "metadata": {},
   "outputs": [
    {
     "data": {
      "text/plain": [
       "29"
      ]
     },
     "execution_count": 10,
     "metadata": {},
     "output_type": "execute_result"
    }
   ],
   "source": [
    "len(df['name'].unique())"
   ]
  },
  {
   "cell_type": "code",
   "execution_count": 11,
   "metadata": {},
   "outputs": [],
   "source": [
    "df = df[df['name'].isin(uniqueName)]"
   ]
  },
  {
   "cell_type": "code",
   "execution_count": 14,
   "metadata": {},
   "outputs": [],
   "source": [
    "df.to_csv('./csv/converse-after.csv',index=False)"
   ]
  },
  {
   "cell_type": "code",
   "execution_count": 15,
   "metadata": {},
   "outputs": [
    {
     "data": {
      "text/html": [
       "<div>\n",
       "<style scoped>\n",
       "    .dataframe tbody tr th:only-of-type {\n",
       "        vertical-align: middle;\n",
       "    }\n",
       "\n",
       "    .dataframe tbody tr th {\n",
       "        vertical-align: top;\n",
       "    }\n",
       "\n",
       "    .dataframe thead th {\n",
       "        text-align: right;\n",
       "    }\n",
       "</style>\n",
       "<table border=\"1\" class=\"dataframe\">\n",
       "  <thead>\n",
       "    <tr style=\"text-align: right;\">\n",
       "      <th></th>\n",
       "      <th>brand</th>\n",
       "      <th>name</th>\n",
       "      <th>price</th>\n",
       "    </tr>\n",
       "  </thead>\n",
       "  <tbody>\n",
       "    <tr>\n",
       "      <th>0</th>\n",
       "      <td>컨버스</td>\n",
       "      <td>런 스타 레거시 CX 하이</td>\n",
       "      <td>112500</td>\n",
       "    </tr>\n",
       "    <tr>\n",
       "      <th>1</th>\n",
       "      <td>컨버스</td>\n",
       "      <td>척 70 1벨크로 하이</td>\n",
       "      <td>53100</td>\n",
       "    </tr>\n",
       "    <tr>\n",
       "      <th>2</th>\n",
       "      <td>컨버스</td>\n",
       "      <td>척테일러올스타 크러쉬 힐 옥스</td>\n",
       "      <td>75000</td>\n",
       "    </tr>\n",
       "    <tr>\n",
       "      <th>4</th>\n",
       "      <td>컨버스</td>\n",
       "      <td>척 테일러 올스타 70 하이</td>\n",
       "      <td>89100</td>\n",
       "    </tr>\n",
       "    <tr>\n",
       "      <th>5</th>\n",
       "      <td>컨버스</td>\n",
       "      <td>척테일러 올스타 코어</td>\n",
       "      <td>53100</td>\n",
       "    </tr>\n",
       "    <tr>\n",
       "      <th>6</th>\n",
       "      <td>컨버스</td>\n",
       "      <td>척테일러 올스타 코어 하이</td>\n",
       "      <td>58500</td>\n",
       "    </tr>\n",
       "    <tr>\n",
       "      <th>8</th>\n",
       "      <td>컨버스</td>\n",
       "      <td>척테일러 올스타 하이</td>\n",
       "      <td>69000</td>\n",
       "    </tr>\n",
       "    <tr>\n",
       "      <th>9</th>\n",
       "      <td>컨버스</td>\n",
       "      <td>척 70 플러스 하이</td>\n",
       "      <td>98100</td>\n",
       "    </tr>\n",
       "    <tr>\n",
       "      <th>10</th>\n",
       "      <td>컨버스</td>\n",
       "      <td>척테일러올스타 리프트 하이</td>\n",
       "      <td>89000</td>\n",
       "    </tr>\n",
       "    <tr>\n",
       "      <th>13</th>\n",
       "      <td>컨버스</td>\n",
       "      <td>척테일러 올스타 무브 옥스</td>\n",
       "      <td>76500</td>\n",
       "    </tr>\n",
       "    <tr>\n",
       "      <th>17</th>\n",
       "      <td>컨버스</td>\n",
       "      <td>척 70 옥스</td>\n",
       "      <td>85500</td>\n",
       "    </tr>\n",
       "    <tr>\n",
       "      <th>20</th>\n",
       "      <td>컨버스</td>\n",
       "      <td>척 70 하이</td>\n",
       "      <td>105000</td>\n",
       "    </tr>\n",
       "    <tr>\n",
       "      <th>36</th>\n",
       "      <td>컨버스</td>\n",
       "      <td>척 테일러 올스타 70</td>\n",
       "      <td>85500</td>\n",
       "    </tr>\n",
       "    <tr>\n",
       "      <th>39</th>\n",
       "      <td>컨버스</td>\n",
       "      <td>척 테일러 올스타 리프트</td>\n",
       "      <td>71100</td>\n",
       "    </tr>\n",
       "    <tr>\n",
       "      <th>41</th>\n",
       "      <td>컨버스</td>\n",
       "      <td>척테일러올스타 크립스터 미드</td>\n",
       "      <td>29000</td>\n",
       "    </tr>\n",
       "    <tr>\n",
       "      <th>50</th>\n",
       "      <td>컨버스</td>\n",
       "      <td>척테일러 올스타 무브 하이</td>\n",
       "      <td>80100</td>\n",
       "    </tr>\n",
       "    <tr>\n",
       "      <th>55</th>\n",
       "      <td>컨버스</td>\n",
       "      <td>척테일러 올스타 러기드 2.0 하이</td>\n",
       "      <td>71000</td>\n",
       "    </tr>\n",
       "    <tr>\n",
       "      <th>57</th>\n",
       "      <td>컨버스</td>\n",
       "      <td>유니섹스 척테일러 올스타 옥스</td>\n",
       "      <td>31000</td>\n",
       "    </tr>\n",
       "    <tr>\n",
       "      <th>59</th>\n",
       "      <td>컨버스</td>\n",
       "      <td>척테일러 올스타 옥스</td>\n",
       "      <td>48000</td>\n",
       "    </tr>\n",
       "    <tr>\n",
       "      <th>62</th>\n",
       "      <td>컨버스</td>\n",
       "      <td>인펀트 척테일러 올스타 하이</td>\n",
       "      <td>29000</td>\n",
       "    </tr>\n",
       "    <tr>\n",
       "      <th>63</th>\n",
       "      <td>컨버스</td>\n",
       "      <td>유니섹스 척테일러 올스타 하이</td>\n",
       "      <td>36000</td>\n",
       "    </tr>\n",
       "    <tr>\n",
       "      <th>66</th>\n",
       "      <td>컨버스</td>\n",
       "      <td>척테일러올스타 1벨크로 옥스</td>\n",
       "      <td>35100</td>\n",
       "    </tr>\n",
       "    <tr>\n",
       "      <th>72</th>\n",
       "      <td>컨버스</td>\n",
       "      <td>척 70 옥스 1벨크로</td>\n",
       "      <td>49500</td>\n",
       "    </tr>\n",
       "    <tr>\n",
       "      <th>80</th>\n",
       "      <td>컨버스</td>\n",
       "      <td>척테일러올스타 1벨크로 하이</td>\n",
       "      <td>36000</td>\n",
       "    </tr>\n",
       "    <tr>\n",
       "      <th>83</th>\n",
       "      <td>컨버스</td>\n",
       "      <td>척 테일러 올 스타 하이</td>\n",
       "      <td>31000</td>\n",
       "    </tr>\n",
       "    <tr>\n",
       "      <th>85</th>\n",
       "      <td>컨버스</td>\n",
       "      <td>척 70 뮬 슬립</td>\n",
       "      <td>68000</td>\n",
       "    </tr>\n",
       "    <tr>\n",
       "      <th>87</th>\n",
       "      <td>컨버스</td>\n",
       "      <td>척테일러올스타 데인티 뮬</td>\n",
       "      <td>48000</td>\n",
       "    </tr>\n",
       "  </tbody>\n",
       "</table>\n",
       "</div>"
      ],
      "text/plain": [
       "   brand                 name   price\n",
       "0    컨버스       런 스타 레거시 CX 하이  112500\n",
       "1    컨버스         척 70 1벨크로 하이   53100\n",
       "2    컨버스     척테일러올스타 크러쉬 힐 옥스   75000\n",
       "4    컨버스      척 테일러 올스타 70 하이   89100\n",
       "5    컨버스          척테일러 올스타 코어   53100\n",
       "6    컨버스       척테일러 올스타 코어 하이   58500\n",
       "8    컨버스          척테일러 올스타 하이   69000\n",
       "9    컨버스          척 70 플러스 하이   98100\n",
       "10   컨버스       척테일러올스타 리프트 하이   89000\n",
       "13   컨버스       척테일러 올스타 무브 옥스   76500\n",
       "17   컨버스              척 70 옥스   85500\n",
       "20   컨버스              척 70 하이  105000\n",
       "36   컨버스         척 테일러 올스타 70   85500\n",
       "39   컨버스        척 테일러 올스타 리프트   71100\n",
       "41   컨버스      척테일러올스타 크립스터 미드   29000\n",
       "50   컨버스       척테일러 올스타 무브 하이   80100\n",
       "55   컨버스  척테일러 올스타 러기드 2.0 하이   71000\n",
       "57   컨버스     유니섹스 척테일러 올스타 옥스   31000\n",
       "59   컨버스          척테일러 올스타 옥스   48000\n",
       "62   컨버스      인펀트 척테일러 올스타 하이   29000\n",
       "63   컨버스     유니섹스 척테일러 올스타 하이   36000\n",
       "66   컨버스      척테일러올스타 1벨크로 옥스   35100\n",
       "72   컨버스         척 70 옥스 1벨크로   49500\n",
       "80   컨버스      척테일러올스타 1벨크로 하이   36000\n",
       "83   컨버스        척 테일러 올 스타 하이   31000\n",
       "85   컨버스            척 70 뮬 슬립   68000\n",
       "87   컨버스        척테일러올스타 데인티 뮬   48000"
      ]
     },
     "execution_count": 15,
     "metadata": {},
     "output_type": "execute_result"
    }
   ],
   "source": [
    "df"
   ]
  },
  {
   "cell_type": "code",
   "execution_count": null,
   "metadata": {},
   "outputs": [],
   "source": []
  }
 ],
 "metadata": {
  "kernelspec": {
   "display_name": "tensorflow_env",
   "language": "python",
   "name": "python3"
  },
  "language_info": {
   "codemirror_mode": {
    "name": "ipython",
    "version": 3
   },
   "file_extension": ".py",
   "mimetype": "text/x-python",
   "name": "python",
   "nbconvert_exporter": "python",
   "pygments_lexer": "ipython3",
   "version": "3.10.9"
  },
  "orig_nbformat": 4
 },
 "nbformat": 4,
 "nbformat_minor": 2
}
