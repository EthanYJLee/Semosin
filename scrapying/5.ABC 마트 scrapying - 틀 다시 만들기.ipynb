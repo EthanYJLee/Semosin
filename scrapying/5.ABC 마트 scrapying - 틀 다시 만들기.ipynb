{
 "cells": [
  {
   "cell_type": "code",
   "execution_count": 5,
   "metadata": {},
   "outputs": [],
   "source": [
    "from bs4 import BeautifulSoup\n",
    "import urllib.request as req\n",
    "import time"
   ]
  },
  {
   "cell_type": "code",
   "execution_count": 6,
   "metadata": {},
   "outputs": [],
   "source": [
    "from selenium import webdriver\n",
    "from selenium.webdriver.chrome.service import Service\n",
    "from webdriver_manager.chrome import ChromeDriverManager\n",
    "from selenium.webdriver.common.by import By\n",
    "import pandas as pd"
   ]
  },
  {
   "cell_type": "code",
   "execution_count": 8,
   "metadata": {},
   "outputs": [
    {
     "ename": "WebDriverException",
     "evalue": "Message: Service /Users/kwonsoonhyong/.wdm/drivers/chromedriver/mac_arm64/110.0.5481/chromedriver unexpectedly exited. Status code was: -9\n",
     "output_type": "error",
     "traceback": [
      "\u001b[0;31m---------------------------------------------------------------------------\u001b[0m",
      "\u001b[0;31mWebDriverException\u001b[0m                        Traceback (most recent call last)",
      "Cell \u001b[0;32mIn[8], line 3\u001b[0m\n\u001b[1;32m      1\u001b[0m \u001b[39m# Chrome Browser와 Chrome Driver Version 확인하기\u001b[39;00m\n\u001b[1;32m      2\u001b[0m chrom_options \u001b[39m=\u001b[39m webdriver\u001b[39m.\u001b[39mChromeOptions()\n\u001b[0;32m----> 3\u001b[0m driver \u001b[39m=\u001b[39m webdriver\u001b[39m.\u001b[39;49mChrome(service\u001b[39m=\u001b[39;49mService(ChromeDriverManager()\u001b[39m.\u001b[39;49minstall()),options\u001b[39m=\u001b[39;49mchrom_options)\n\u001b[1;32m      4\u001b[0m driver\u001b[39m.\u001b[39mget(\u001b[39m'\u001b[39m\u001b[39mhttps://abcmart.a-rt.com/\u001b[39m\u001b[39m'\u001b[39m)\n",
      "File \u001b[0;32m~/miniforge3/envs/tensorflow_env/lib/python3.10/site-packages/selenium/webdriver/chrome/webdriver.py:80\u001b[0m, in \u001b[0;36mWebDriver.__init__\u001b[0;34m(self, executable_path, port, options, service_args, desired_capabilities, service_log_path, chrome_options, service, keep_alive)\u001b[0m\n\u001b[1;32m     77\u001b[0m \u001b[39mif\u001b[39;00m \u001b[39mnot\u001b[39;00m service:\n\u001b[1;32m     78\u001b[0m     service \u001b[39m=\u001b[39m Service(executable_path, port, service_args, service_log_path)\n\u001b[0;32m---> 80\u001b[0m \u001b[39msuper\u001b[39;49m()\u001b[39m.\u001b[39;49m\u001b[39m__init__\u001b[39;49m(\n\u001b[1;32m     81\u001b[0m     DesiredCapabilities\u001b[39m.\u001b[39;49mCHROME[\u001b[39m\"\u001b[39;49m\u001b[39mbrowserName\u001b[39;49m\u001b[39m\"\u001b[39;49m],\n\u001b[1;32m     82\u001b[0m     \u001b[39m\"\u001b[39;49m\u001b[39mgoog\u001b[39;49m\u001b[39m\"\u001b[39;49m,\n\u001b[1;32m     83\u001b[0m     port,\n\u001b[1;32m     84\u001b[0m     options,\n\u001b[1;32m     85\u001b[0m     service_args,\n\u001b[1;32m     86\u001b[0m     desired_capabilities,\n\u001b[1;32m     87\u001b[0m     service_log_path,\n\u001b[1;32m     88\u001b[0m     service,\n\u001b[1;32m     89\u001b[0m     keep_alive,\n\u001b[1;32m     90\u001b[0m )\n",
      "File \u001b[0;32m~/miniforge3/envs/tensorflow_env/lib/python3.10/site-packages/selenium/webdriver/chromium/webdriver.py:101\u001b[0m, in \u001b[0;36mChromiumDriver.__init__\u001b[0;34m(self, browser_name, vendor_prefix, port, options, service_args, desired_capabilities, service_log_path, service, keep_alive)\u001b[0m\n\u001b[1;32m     98\u001b[0m     \u001b[39mraise\u001b[39;00m \u001b[39mAttributeError\u001b[39;00m(\u001b[39m\"\u001b[39m\u001b[39mservice cannot be None\u001b[39m\u001b[39m\"\u001b[39m)\n\u001b[1;32m    100\u001b[0m \u001b[39mself\u001b[39m\u001b[39m.\u001b[39mservice \u001b[39m=\u001b[39m service\n\u001b[0;32m--> 101\u001b[0m \u001b[39mself\u001b[39;49m\u001b[39m.\u001b[39;49mservice\u001b[39m.\u001b[39;49mstart()\n\u001b[1;32m    103\u001b[0m \u001b[39mtry\u001b[39;00m:\n\u001b[1;32m    104\u001b[0m     \u001b[39msuper\u001b[39m()\u001b[39m.\u001b[39m\u001b[39m__init__\u001b[39m(\n\u001b[1;32m    105\u001b[0m         command_executor\u001b[39m=\u001b[39mChromiumRemoteConnection(\n\u001b[1;32m    106\u001b[0m             remote_server_addr\u001b[39m=\u001b[39m\u001b[39mself\u001b[39m\u001b[39m.\u001b[39mservice\u001b[39m.\u001b[39mservice_url,\n\u001b[0;32m   (...)\u001b[0m\n\u001b[1;32m    112\u001b[0m         options\u001b[39m=\u001b[39moptions,\n\u001b[1;32m    113\u001b[0m     )\n",
      "File \u001b[0;32m~/miniforge3/envs/tensorflow_env/lib/python3.10/site-packages/selenium/webdriver/common/service.py:104\u001b[0m, in \u001b[0;36mService.start\u001b[0;34m(self)\u001b[0m\n\u001b[1;32m    102\u001b[0m count \u001b[39m=\u001b[39m \u001b[39m0\u001b[39m\n\u001b[1;32m    103\u001b[0m \u001b[39mwhile\u001b[39;00m \u001b[39mTrue\u001b[39;00m:\n\u001b[0;32m--> 104\u001b[0m     \u001b[39mself\u001b[39;49m\u001b[39m.\u001b[39;49massert_process_still_running()\n\u001b[1;32m    105\u001b[0m     \u001b[39mif\u001b[39;00m \u001b[39mself\u001b[39m\u001b[39m.\u001b[39mis_connectable():\n\u001b[1;32m    106\u001b[0m         \u001b[39mbreak\u001b[39;00m\n",
      "File \u001b[0;32m~/miniforge3/envs/tensorflow_env/lib/python3.10/site-packages/selenium/webdriver/common/service.py:117\u001b[0m, in \u001b[0;36mService.assert_process_still_running\u001b[0;34m(self)\u001b[0m\n\u001b[1;32m    115\u001b[0m return_code \u001b[39m=\u001b[39m \u001b[39mself\u001b[39m\u001b[39m.\u001b[39mprocess\u001b[39m.\u001b[39mpoll()\n\u001b[1;32m    116\u001b[0m \u001b[39mif\u001b[39;00m return_code:\n\u001b[0;32m--> 117\u001b[0m     \u001b[39mraise\u001b[39;00m WebDriverException(\u001b[39mf\u001b[39m\u001b[39m\"\u001b[39m\u001b[39mService \u001b[39m\u001b[39m{\u001b[39;00m\u001b[39mself\u001b[39m\u001b[39m.\u001b[39mpath\u001b[39m}\u001b[39;00m\u001b[39m unexpectedly exited. Status code was: \u001b[39m\u001b[39m{\u001b[39;00mreturn_code\u001b[39m}\u001b[39;00m\u001b[39m\"\u001b[39m)\n",
      "\u001b[0;31mWebDriverException\u001b[0m: Message: Service /Users/kwonsoonhyong/.wdm/drivers/chromedriver/mac_arm64/110.0.5481/chromedriver unexpectedly exited. Status code was: -9\n"
     ]
    }
   ],
   "source": [
    "# Chrome Browser와 Chrome Driver Version 확인하기\n",
    "chrom_options = webdriver.ChromeOptions()\n",
    "driver = webdriver.Chrome(service=Service(ChromeDriverManager().install()),options=chrom_options)\n",
    "driver.get('https://abcmart.a-rt.com/')"
   ]
  },
  {
   "cell_type": "code",
   "execution_count": 97,
   "metadata": {},
   "outputs": [],
   "source": [
    "# 브랜드 클릭\n",
    "xpath = '//*[@id=\"gnbMenuWrap\"]/ul/li[1]/a'\n",
    "driver.find_element(By.XPATH,xpath).click()"
   ]
  },
  {
   "cell_type": "code",
   "execution_count": 98,
   "metadata": {},
   "outputs": [],
   "source": [
    "## 브랜드명만 바꿔주면 된다.\n",
    "driver.find_element(By.XPATH,'//*[@id=\"brandSearch\"]').send_keys('nike')"
   ]
  },
  {
   "cell_type": "code",
   "execution_count": 99,
   "metadata": {},
   "outputs": [],
   "source": [
    "xpath='//*[@id=\"brandNameN\"]/ul/li[4]/a/span[1]'\n",
    "driver.find_element(By.XPATH,xpath).click()"
   ]
  },
  {
   "cell_type": "code",
   "execution_count": 100,
   "metadata": {},
   "outputs": [],
   "source": [
    "driver.execute_script('window.scrollTo(0, document.body.scrollHeight / 5);')\n",
    "\n",
    "# 카테고리 신발 선택하기\n",
    "xpath = '//*[@id=\"isubCatListLi1000000441\"]/div[1]'\n",
    "driver.find_element(By.XPATH,xpath).click()\n",
    "xpath = '//*[@id=\"isubCatListLi1000000441\"]/div[2]/ul/li[1]/span/label'\n",
    "driver.find_element(By.XPATH,xpath).click()"
   ]
  },
  {
   "cell_type": "code",
   "execution_count": 101,
   "metadata": {},
   "outputs": [],
   "source": [
    "# 1 - 30\n",
    "shoes = []"
   ]
  },
  {
   "cell_type": "code",
   "execution_count": 103,
   "metadata": {},
   "outputs": [
    {
     "name": "stdout",
     "output_type": "stream",
     "text": [
      "나이키-나이키 주니퍼 트레일 2 넥스트네이처\n",
      "나이키-나이키 주니퍼 트레일 2 넥스트네이처\n"
     ]
    },
    {
     "ename": "KeyboardInterrupt",
     "evalue": "",
     "output_type": "error",
     "traceback": [
      "\u001b[0;31m---------------------------------------------------------------------------\u001b[0m",
      "\u001b[0;31mKeyboardInterrupt\u001b[0m                         Traceback (most recent call last)",
      "Cell \u001b[0;32mIn[103], line 19\u001b[0m\n\u001b[1;32m     16\u001b[0m shoe[\u001b[39m'\u001b[39m\u001b[39mprice\u001b[39m\u001b[39m'\u001b[39m] \u001b[39m=\u001b[39m soup\u001b[39m.\u001b[39mselect_one(\u001b[39m'\u001b[39m\u001b[39m.price-cost\u001b[39m\u001b[39m'\u001b[39m)\u001b[39m.\u001b[39mstring\u001b[39m.\u001b[39mreplace(\u001b[39m'\u001b[39m\u001b[39m,\u001b[39m\u001b[39m'\u001b[39m,\u001b[39m'\u001b[39m\u001b[39m'\u001b[39m)\n\u001b[1;32m     18\u001b[0m \u001b[39m# 10일 경우\u001b[39;00m\n\u001b[0;32m---> 19\u001b[0m details \u001b[39m=\u001b[39msoup\u001b[39m.\u001b[39;49mselect(\u001b[39m'\u001b[39;49m\u001b[39m#product-detail-notice span\u001b[39;49m\u001b[39m'\u001b[39;49m)\n\u001b[1;32m     20\u001b[0m \u001b[39m# 소재 , 색상 , 사이즈, 굽높이 , 제조사, 제조국 , a/s , 제조년월 , 품질보증기간 , 소재별 관리방법\u001b[39;00m\n\u001b[1;32m     21\u001b[0m \u001b[39mif\u001b[39;00m \u001b[39mlen\u001b[39m(details) \u001b[39m>\u001b[39m\u001b[39m=\u001b[39m \u001b[39m10\u001b[39m:\n",
      "File \u001b[0;32m~/miniforge3/envs/tensorflow_env/lib/python3.10/site-packages/bs4/element.py:1992\u001b[0m, in \u001b[0;36mTag.select\u001b[0;34m(self, selector, namespaces, limit, **kwargs)\u001b[0m\n\u001b[1;32m   1987\u001b[0m \u001b[39mif\u001b[39;00m soupsieve \u001b[39mis\u001b[39;00m \u001b[39mNone\u001b[39;00m:\n\u001b[1;32m   1988\u001b[0m     \u001b[39mraise\u001b[39;00m \u001b[39mNotImplementedError\u001b[39;00m(\n\u001b[1;32m   1989\u001b[0m         \u001b[39m\"\u001b[39m\u001b[39mCannot execute CSS selectors because the soupsieve package is not installed.\u001b[39m\u001b[39m\"\u001b[39m\n\u001b[1;32m   1990\u001b[0m     )\n\u001b[0;32m-> 1992\u001b[0m results \u001b[39m=\u001b[39m soupsieve\u001b[39m.\u001b[39;49mselect(selector, \u001b[39mself\u001b[39;49m, namespaces, limit, \u001b[39m*\u001b[39;49m\u001b[39m*\u001b[39;49mkwargs)\n\u001b[1;32m   1994\u001b[0m \u001b[39m# We do this because it's more consistent and because\u001b[39;00m\n\u001b[1;32m   1995\u001b[0m \u001b[39m# ResultSet.__getattr__ has a helpful error message.\u001b[39;00m\n\u001b[1;32m   1996\u001b[0m \u001b[39mreturn\u001b[39;00m ResultSet(\u001b[39mNone\u001b[39;00m, results)\n",
      "File \u001b[0;32m~/miniforge3/envs/tensorflow_env/lib/python3.10/site-packages/soupsieve/__init__.py:147\u001b[0m, in \u001b[0;36mselect\u001b[0;34m(select, tag, namespaces, limit, flags, custom, **kwargs)\u001b[0m\n\u001b[1;32m    135\u001b[0m \u001b[39mdef\u001b[39;00m \u001b[39mselect\u001b[39m(\n\u001b[1;32m    136\u001b[0m     select: \u001b[39mstr\u001b[39m,\n\u001b[1;32m    137\u001b[0m     tag: \u001b[39m'\u001b[39m\u001b[39mbs4.Tag\u001b[39m\u001b[39m'\u001b[39m,\n\u001b[0;32m   (...)\u001b[0m\n\u001b[1;32m    143\u001b[0m     \u001b[39m*\u001b[39m\u001b[39m*\u001b[39mkwargs: Any\n\u001b[1;32m    144\u001b[0m ) \u001b[39m-\u001b[39m\u001b[39m>\u001b[39m \u001b[39mlist\u001b[39m[\u001b[39m'\u001b[39m\u001b[39mbs4.Tag\u001b[39m\u001b[39m'\u001b[39m]:\n\u001b[1;32m    145\u001b[0m \u001b[39m    \u001b[39m\u001b[39m\"\"\"Select the specified tags.\"\"\"\u001b[39;00m\n\u001b[0;32m--> 147\u001b[0m     \u001b[39mreturn\u001b[39;00m \u001b[39mcompile\u001b[39;49m(select, namespaces, flags, \u001b[39m*\u001b[39;49m\u001b[39m*\u001b[39;49mkwargs)\u001b[39m.\u001b[39;49mselect(tag, limit)\n",
      "File \u001b[0;32m~/miniforge3/envs/tensorflow_env/lib/python3.10/site-packages/soupsieve/css_match.py:1569\u001b[0m, in \u001b[0;36mSoupSieve.select\u001b[0;34m(self, tag, limit)\u001b[0m\n\u001b[1;32m   1566\u001b[0m \u001b[39mdef\u001b[39;00m \u001b[39mselect\u001b[39m(\u001b[39mself\u001b[39m, tag: bs4\u001b[39m.\u001b[39mTag, limit: \u001b[39mint\u001b[39m \u001b[39m=\u001b[39m \u001b[39m0\u001b[39m) \u001b[39m-\u001b[39m\u001b[39m>\u001b[39m \u001b[39mlist\u001b[39m[bs4\u001b[39m.\u001b[39mTag]:\n\u001b[1;32m   1567\u001b[0m \u001b[39m    \u001b[39m\u001b[39m\"\"\"Select the specified tags.\"\"\"\u001b[39;00m\n\u001b[0;32m-> 1569\u001b[0m     \u001b[39mreturn\u001b[39;00m \u001b[39mlist\u001b[39;49m(\u001b[39mself\u001b[39;49m\u001b[39m.\u001b[39;49miselect(tag, limit))\n",
      "File \u001b[0;32m~/miniforge3/envs/tensorflow_env/lib/python3.10/site-packages/soupsieve/css_match.py:1574\u001b[0m, in \u001b[0;36mSoupSieve.iselect\u001b[0;34m(self, tag, limit)\u001b[0m\n\u001b[1;32m   1571\u001b[0m \u001b[39mdef\u001b[39;00m \u001b[39miselect\u001b[39m(\u001b[39mself\u001b[39m, tag: bs4\u001b[39m.\u001b[39mTag, limit: \u001b[39mint\u001b[39m \u001b[39m=\u001b[39m \u001b[39m0\u001b[39m) \u001b[39m-\u001b[39m\u001b[39m>\u001b[39m Iterator[bs4\u001b[39m.\u001b[39mTag]:\n\u001b[1;32m   1572\u001b[0m \u001b[39m    \u001b[39m\u001b[39m\"\"\"Iterate the specified tags.\"\"\"\u001b[39;00m\n\u001b[0;32m-> 1574\u001b[0m     \u001b[39mfor\u001b[39;00m el \u001b[39min\u001b[39;00m CSSMatch(\u001b[39mself\u001b[39m\u001b[39m.\u001b[39mselectors, tag, \u001b[39mself\u001b[39m\u001b[39m.\u001b[39mnamespaces, \u001b[39mself\u001b[39m\u001b[39m.\u001b[39mflags)\u001b[39m.\u001b[39mselect(limit):\n\u001b[1;32m   1575\u001b[0m         \u001b[39myield\u001b[39;00m el\n",
      "File \u001b[0;32m~/miniforge3/envs/tensorflow_env/lib/python3.10/site-packages/soupsieve/css_match.py:1474\u001b[0m, in \u001b[0;36mCSSMatch.select\u001b[0;34m(self, limit)\u001b[0m\n\u001b[1;32m   1471\u001b[0m lim \u001b[39m=\u001b[39m \u001b[39mNone\u001b[39;00m \u001b[39mif\u001b[39;00m limit \u001b[39m<\u001b[39m \u001b[39m1\u001b[39m \u001b[39melse\u001b[39;00m limit\n\u001b[1;32m   1473\u001b[0m \u001b[39mfor\u001b[39;00m child \u001b[39min\u001b[39;00m \u001b[39mself\u001b[39m\u001b[39m.\u001b[39mget_descendants(\u001b[39mself\u001b[39m\u001b[39m.\u001b[39mtag):\n\u001b[0;32m-> 1474\u001b[0m     \u001b[39mif\u001b[39;00m \u001b[39mself\u001b[39;49m\u001b[39m.\u001b[39;49mmatch(child):\n\u001b[1;32m   1475\u001b[0m         \u001b[39myield\u001b[39;00m child\n\u001b[1;32m   1476\u001b[0m         \u001b[39mif\u001b[39;00m lim \u001b[39mis\u001b[39;00m \u001b[39mnot\u001b[39;00m \u001b[39mNone\u001b[39;00m:\n",
      "File \u001b[0;32m~/miniforge3/envs/tensorflow_env/lib/python3.10/site-packages/soupsieve/css_match.py:1501\u001b[0m, in \u001b[0;36mCSSMatch.match\u001b[0;34m(self, el)\u001b[0m\n\u001b[1;32m   1498\u001b[0m \u001b[39mdef\u001b[39;00m \u001b[39mmatch\u001b[39m(\u001b[39mself\u001b[39m, el: bs4\u001b[39m.\u001b[39mTag) \u001b[39m-\u001b[39m\u001b[39m>\u001b[39m \u001b[39mbool\u001b[39m:\n\u001b[1;32m   1499\u001b[0m \u001b[39m    \u001b[39m\u001b[39m\"\"\"Match.\"\"\"\u001b[39;00m\n\u001b[0;32m-> 1501\u001b[0m     \u001b[39mreturn\u001b[39;00m \u001b[39mnot\u001b[39;00m \u001b[39mself\u001b[39m\u001b[39m.\u001b[39mis_doc(el) \u001b[39mand\u001b[39;00m \u001b[39mself\u001b[39m\u001b[39m.\u001b[39mis_tag(el) \u001b[39mand\u001b[39;00m \u001b[39mself\u001b[39;49m\u001b[39m.\u001b[39;49mmatch_selectors(el, \u001b[39mself\u001b[39;49m\u001b[39m.\u001b[39;49mselectors)\n",
      "File \u001b[0;32m~/miniforge3/envs/tensorflow_env/lib/python3.10/site-packages/soupsieve/css_match.py:1443\u001b[0m, in \u001b[0;36mCSSMatch.match_selectors\u001b[0;34m(self, el, selectors)\u001b[0m\n\u001b[1;32m   1441\u001b[0m     \u001b[39mcontinue\u001b[39;00m\n\u001b[1;32m   1442\u001b[0m \u001b[39m# Verify relationship selectors\u001b[39;00m\n\u001b[0;32m-> 1443\u001b[0m \u001b[39mif\u001b[39;00m selector\u001b[39m.\u001b[39mrelation \u001b[39mand\u001b[39;00m \u001b[39mnot\u001b[39;00m \u001b[39mself\u001b[39;49m\u001b[39m.\u001b[39;49mmatch_relations(el, selector\u001b[39m.\u001b[39;49mrelation):\n\u001b[1;32m   1444\u001b[0m     \u001b[39mcontinue\u001b[39;00m\n\u001b[1;32m   1445\u001b[0m \u001b[39m# Validate that the current default selector match corresponds to the first submit button in the form\u001b[39;00m\n",
      "File \u001b[0;32m~/miniforge3/envs/tensorflow_env/lib/python3.10/site-packages/soupsieve/css_match.py:842\u001b[0m, in \u001b[0;36mCSSMatch.match_relations\u001b[0;34m(self, el, relation)\u001b[0m\n\u001b[1;32m    840\u001b[0m     found \u001b[39m=\u001b[39m \u001b[39mself\u001b[39m\u001b[39m.\u001b[39mmatch_future_relations(el, relation)\n\u001b[1;32m    841\u001b[0m \u001b[39melse\u001b[39;00m:\n\u001b[0;32m--> 842\u001b[0m     found \u001b[39m=\u001b[39m \u001b[39mself\u001b[39;49m\u001b[39m.\u001b[39;49mmatch_past_relations(el, relation)\n\u001b[1;32m    844\u001b[0m \u001b[39mreturn\u001b[39;00m found\n",
      "File \u001b[0;32m~/miniforge3/envs/tensorflow_env/lib/python3.10/site-packages/soupsieve/css_match.py:776\u001b[0m, in \u001b[0;36mCSSMatch.match_past_relations\u001b[0;34m(self, el, relation)\u001b[0m\n\u001b[1;32m    774\u001b[0m \u001b[39mif\u001b[39;00m relation[\u001b[39m0\u001b[39m]\u001b[39m.\u001b[39mrel_type \u001b[39m==\u001b[39m REL_PARENT:\n\u001b[1;32m    775\u001b[0m     parent \u001b[39m=\u001b[39m \u001b[39mself\u001b[39m\u001b[39m.\u001b[39mget_parent(el, no_iframe\u001b[39m=\u001b[39m\u001b[39mself\u001b[39m\u001b[39m.\u001b[39miframe_restrict)\n\u001b[0;32m--> 776\u001b[0m     \u001b[39mwhile\u001b[39;00m \u001b[39mnot\u001b[39;00m found \u001b[39mand\u001b[39;00m parent:\n\u001b[1;32m    777\u001b[0m         found \u001b[39m=\u001b[39m \u001b[39mself\u001b[39m\u001b[39m.\u001b[39mmatch_selectors(parent, relation)\n\u001b[1;32m    778\u001b[0m         parent \u001b[39m=\u001b[39m \u001b[39mself\u001b[39m\u001b[39m.\u001b[39mget_parent(parent, no_iframe\u001b[39m=\u001b[39m\u001b[39mself\u001b[39m\u001b[39m.\u001b[39miframe_restrict)\n",
      "File \u001b[0;32m~/miniforge3/envs/tensorflow_env/lib/python3.10/site-packages/bs4/element.py:1548\u001b[0m, in \u001b[0;36mTag.__bool__\u001b[0;34m(self)\u001b[0m\n\u001b[1;32m   1545\u001b[0m \u001b[39mdef\u001b[39;00m \u001b[39m__contains__\u001b[39m(\u001b[39mself\u001b[39m, x):\n\u001b[1;32m   1546\u001b[0m     \u001b[39mreturn\u001b[39;00m x \u001b[39min\u001b[39;00m \u001b[39mself\u001b[39m\u001b[39m.\u001b[39mcontents\n\u001b[0;32m-> 1548\u001b[0m \u001b[39mdef\u001b[39;00m \u001b[39m__bool__\u001b[39m(\u001b[39mself\u001b[39m):\n\u001b[1;32m   1549\u001b[0m     \u001b[39m\"\u001b[39m\u001b[39mA tag is non-None even if it has no contents.\u001b[39m\u001b[39m\"\u001b[39m\n\u001b[1;32m   1550\u001b[0m     \u001b[39mreturn\u001b[39;00m \u001b[39mTrue\u001b[39;00m\n",
      "\u001b[0;31mKeyboardInterrupt\u001b[0m: "
     ]
    }
   ],
   "source": [
    "for j in range(1,6):\n",
    "    xpath = '//*[@id=\"tabContentProd\"]/div[3]/div[2]/div[2]/ul/li[%d]'%j\n",
    "    driver.find_element(By.XPATH,xpath).click()\n",
    "\n",
    "    time.sleep(10)\n",
    "    \n",
    "    driver.execute_script('window.scrollTo(0, document.body.scrollHeight);')\n",
    "\n",
    "    html = driver.page_source\n",
    "    soup = BeautifulSoup(html, 'html.parser')\n",
    "\n",
    "    shoe = {}\n",
    "\n",
    "    shoe['brand'] = soup.select_one('.btn-brand').string\n",
    "    shoe['model'] = soup.select_one('.prod-name').string\n",
    "    shoe['price'] = soup.select_one('.price-cost').string.replace(',','')\n",
    "\n",
    "    # 10일 경우\n",
    "    details =soup.select('#product-detail-notice span')\n",
    "    # 소재 , 색상 , 사이즈, 굽높이 , 제조사, 제조국 , a/s , 제조년월 , 품질보증기간 , 소재별 관리방법\n",
    "    if len(details) >= 10:\n",
    "        shoe['material'] = details[0].string\n",
    "        shoe['colors'] = details[1].string\n",
    "        shoe['sizes'] = details[2].string.split(' / ')\n",
    "        shoe['height'] = details[3].string\n",
    "        shoe['maker'] = details[4].string\n",
    "        shoe['country'] = details[5].string\n",
    "        shoe['method'] = details[9].string\n",
    "    elif len(details) == 9:\n",
    "        shoe['material'] = details[0].string\n",
    "        shoe['colors'] = details[1].string\n",
    "        shoe['sizes'] = details[2].string.split(' / ')\n",
    "        shoe['maker'] = details[3].string\n",
    "        shoe['country'] = details[4].string\n",
    "        shoe['method'] = details[8].string\n",
    "\n",
    "    # 이미지 가져오기\n",
    "    images = soup.select('.swiper-slide img')\n",
    "    saveNames = []\n",
    "    i = 1\n",
    "    temp = ''\n",
    "    current = ''\n",
    "    for image in images:\n",
    "        current = image.attrs['alt']\n",
    "        if ('SUB' in temp and 'SUB' not in current and i != 1) :\n",
    "            break\n",
    "        url = image.attrs['src'].replace('100:100','480:480')\n",
    "        saveName = f'./신발 이미지/nike/{shoe[\"brand\"]}-{shoe[\"model\"]}-{i}.jpg'\n",
    "        saveNames.append(saveName)\n",
    "        temp = current\n",
    "        try:\n",
    "            req.urlretrieve(url, saveName)\n",
    "            i += 1\n",
    "        except Exception as e:\n",
    "            print(e)\n",
    "\n",
    "    shoe['images'] = saveNames\n",
    "\n",
    "    shoes.append(shoe)\n",
    "\n",
    "    print(shoe['brand'] + '-' + shoe['model'])\n",
    "\n",
    "    # 뒤로 가기\n",
    "    driver.back()\n",
    "\n",
    "    time.sleep(10)\n",
    "\n",
    "    driver.execute_script('window.scrollTo(0, document.body.scrollHeight / 5);')\n",
    "\n",
    "\n",
    "    time.sleep(10)"
   ]
  },
  {
   "cell_type": "code",
   "execution_count": 102,
   "metadata": {},
   "outputs": [
    {
     "name": "stdout",
     "output_type": "stream",
     "text": [
      "//*[@id=\"tabContentProd\"]/div[3]/div[2]/div[2]/ul/li[11]\n",
      "나이키-나이키 다이나모 고 부츠 보이프리스쿨\n",
      "//*[@id=\"tabContentProd\"]/div[3]/div[2]/div[2]/ul/li[12]\n",
      "나이키-나이키 다이나모 고 보이프리스쿨\n",
      "//*[@id=\"tabContentProd\"]/div[3]/div[2]/div[2]/ul/li[13]\n",
      "나이키-나이키 플렉스 러너 2 프리스쿨벨크로\n",
      "//*[@id=\"tabContentProd\"]/div[3]/div[2]/div[2]/ul/li[14]\n",
      "나이키-나이키 플렉스 러너 2 릴 토들러벨크로\n",
      "//*[@id=\"tabContentProd\"]/div[3]/div[2]/div[2]/ul/li[15]\n",
      "나이키-우먼스 나이키 주니퍼 트레일 2 넥스트네이처\n"
     ]
    }
   ],
   "source": [
    "for j in range(11,16):\n",
    "    xpath = '//*[@id=\"tabContentProd\"]/div[3]/div[2]/div[2]/ul/li[%d]'%j\n",
    "    driver.find_element(By.XPATH,xpath).click()\n",
    "    print(xpath)\n",
    "    time.sleep(10)\n",
    "    \n",
    "    driver.execute_script('window.scrollTo(0, document.body.scrollHeight);')\n",
    "\n",
    "    html = driver.page_source\n",
    "    soup = BeautifulSoup(html, 'html.parser')\n",
    "\n",
    "    shoe = {}\n",
    "\n",
    "    shoe['brand'] = soup.select_one('.btn-brand').string\n",
    "    shoe['model'] = soup.select_one('.prod-name').string\n",
    "    shoe['price'] = soup.select_one('.price-cost').string.replace(',','')\n",
    "\n",
    "    # 10일 경우\n",
    "    details =soup.select('#product-detail-notice span')\n",
    "    # 소재 , 색상 , 사이즈, 굽높이 , 제조사, 제조국 , a/s , 제조년월 , 품질보증기간 , 소재별 관리방법\n",
    "    if len(details) >= 10:\n",
    "        shoe['material'] = details[0].string\n",
    "        shoe['colors'] = details[1].string\n",
    "        shoe['sizes'] = details[2].string.split(' / ')\n",
    "        shoe['height'] = details[3].string\n",
    "        shoe['maker'] = details[4].string\n",
    "        shoe['country'] = details[5].string\n",
    "        shoe['method'] = details[9].string\n",
    "    elif len(details) == 9:\n",
    "        shoe['material'] = details[0].string\n",
    "        shoe['colors'] = details[1].string\n",
    "        shoe['sizes'] = details[2].string.split(' / ')\n",
    "        shoe['maker'] = details[3].string\n",
    "        shoe['country'] = details[4].string\n",
    "        shoe['method'] = details[8].string\n",
    "\n",
    "    # 이미지 가져오기\n",
    "    images = soup.select('.swiper-slide img')\n",
    "    saveNames = []\n",
    "    i = 1\n",
    "    temp = ''\n",
    "    current = ''\n",
    "    for image in images:\n",
    "        current = image.attrs['alt']\n",
    "        if ('SUB' in temp and 'SUB' not in current and i != 1) :\n",
    "            break\n",
    "        url = image.attrs['src'].replace('100:100','480:480')\n",
    "        saveName = f'./신발 이미지/nike/{shoe[\"brand\"]}-{shoe[\"model\"]}-{i}.jpg'\n",
    "        saveNames.append(saveName)\n",
    "        temp = current\n",
    "        try:\n",
    "            req.urlretrieve(url, saveName)\n",
    "            i += 1\n",
    "        except Exception as e:\n",
    "            print(e)\n",
    "\n",
    "    shoe['images'] = saveNames\n",
    "\n",
    "    shoes.append(shoe)\n",
    "\n",
    "    print(shoe['brand'] + '-' + shoe['model'])\n",
    "\n",
    "    # 뒤로 가기\n",
    "    driver.back()\n",
    "\n",
    "    time.sleep(10)\n",
    "\n",
    "    driver.execute_script('window.scrollTo(0, document.body.scrollHeight / 5);')\n",
    "\n",
    "\n",
    "    time.sleep(10)"
   ]
  },
  {
   "cell_type": "code",
   "execution_count": 104,
   "metadata": {},
   "outputs": [],
   "source": [
    "ls1 = [i for i in range(1,10)]\n",
    "ls2 = [i for i in range(10,20)]"
   ]
  },
  {
   "cell_type": "code",
   "execution_count": 105,
   "metadata": {},
   "outputs": [
    {
     "data": {
      "text/plain": [
       "[1, 2, 3, 4, 5, 6, 7, 8, 9, 10, 11, 12, 13, 14, 15, 16, 17, 18, 19]"
      ]
     },
     "execution_count": 105,
     "metadata": {},
     "output_type": "execute_result"
    }
   ],
   "source": [
    "ls1 + ls2"
   ]
  },
  {
   "cell_type": "code",
   "execution_count": 106,
   "metadata": {},
   "outputs": [],
   "source": [
    "map1 = {'1':'1','2':'2'}\n",
    "map2 = {'1':'1','2':'2'}\n",
    "list = []\n",
    "list.append(map1)\n",
    "list.append(map2)"
   ]
  },
  {
   "cell_type": "code",
   "execution_count": 108,
   "metadata": {},
   "outputs": [
    {
     "data": {
      "text/plain": [
       "'[{\"1\": \"1\", \"2\": \"2\"}, {\"1\": \"1\", \"2\": \"2\"}]'"
      ]
     },
     "execution_count": 108,
     "metadata": {},
     "output_type": "execute_result"
    }
   ],
   "source": [
    "import json\n",
    "json.dumps(list)"
   ]
  },
  {
   "cell_type": "code",
   "execution_count": 109,
   "metadata": {},
   "outputs": [],
   "source": [
    "with open('./test.json','w') as f:\n",
    "    json.dump(list,f)"
   ]
  },
  {
   "cell_type": "code",
   "execution_count": null,
   "metadata": {},
   "outputs": [],
   "source": []
  }
 ],
 "metadata": {
  "kernelspec": {
   "display_name": "tensorflow_env",
   "language": "python",
   "name": "python3"
  },
  "language_info": {
   "codemirror_mode": {
    "name": "ipython",
    "version": 3
   },
   "file_extension": ".py",
   "mimetype": "text/x-python",
   "name": "python",
   "nbconvert_exporter": "python",
   "pygments_lexer": "ipython3",
   "version": "3.10.9"
  },
  "orig_nbformat": 4
 },
 "nbformat": 4,
 "nbformat_minor": 2
}
