{
 "cells": [
  {
   "cell_type": "code",
   "execution_count": 84,
   "metadata": {},
   "outputs": [],
   "source": [
    "import glob\n",
    "import json"
   ]
  },
  {
   "cell_type": "code",
   "execution_count": 85,
   "metadata": {},
   "outputs": [],
   "source": [
    "with open('./json/adidas_page_1_1.json','r') as f:\n",
    "    test = json.load(f)"
   ]
  },
  {
   "cell_type": "code",
   "execution_count": 86,
   "metadata": {},
   "outputs": [
    {
     "data": {
      "text/plain": [
       "270"
      ]
     },
     "execution_count": 86,
     "metadata": {},
     "output_type": "execute_result"
    }
   ],
   "source": [
    "jsonFiles = sorted(glob.glob('./json/*.json'))\n",
    "\n",
    "shoes = []\n",
    "temp = []\n",
    "\n",
    "for file in jsonFiles:\n",
    "    with open(file,'r') as f:\n",
    "        shoes_temp = json.load(f)\n",
    "    \n",
    "    for shoe in shoes_temp:\n",
    "        shoes.append(shoe)\n",
    "\n",
    "len(shoes)"
   ]
  },
  {
   "cell_type": "code",
   "execution_count": 87,
   "metadata": {},
   "outputs": [],
   "source": [
    "# 이미지 이름 다 가져오기\n",
    "adidasImages = sorted(glob.glob('./신발 이미지/adidas/*.jpg'))\n",
    "nikeImages = sorted(glob.glob('./신발 이미지/nike/*.jpg'))\n",
    "converseImages = sorted(glob.glob('./신발 이미지/converse/*.jpg'))"
   ]
  },
  {
   "cell_type": "code",
   "execution_count": 88,
   "metadata": {},
   "outputs": [],
   "source": [
    "images = adidasImages + nikeImages + converseImages"
   ]
  },
  {
   "cell_type": "code",
   "execution_count": 89,
   "metadata": {},
   "outputs": [
    {
     "data": {
      "text/plain": [
       "270"
      ]
     },
     "execution_count": 89,
     "metadata": {},
     "output_type": "execute_result"
    }
   ],
   "source": [
    "# 이미지 이름하고 일치하지 않은 인덱스 찾기\n",
    "i = 0\n",
    "popSet = set()\n",
    "\n",
    "for shoe in shoes:\n",
    "    for image in shoe['images']:\n",
    "        if image not in images:\n",
    "            popSet.add(i)\n",
    "    i += 1\n",
    "\n",
    "len(shoes) "
   ]
  },
  {
   "cell_type": "code",
   "execution_count": 90,
   "metadata": {},
   "outputs": [],
   "source": [
    "# 이걸로 바꾸기만 하면 끝\n",
    "shoes[246]['images'] = [\n",
    "    './신발 이미지/nike/나이키-나이키 피코 5 토들러벨크로-1.jpg',\n",
    "    './신발 이미지/nike/나이키-나이키 피코 5 토들러벨크로-2.jpg',\n",
    "    './신발 이미지/nike/나이키-나이키 피코 5 토들러벨크로-3.jpg',\n",
    "    './신발 이미지/nike/나이키-나이키 피코 5 토들러벨크로-4.jpg',\n",
    "    './신발 이미지/nike/나이키-나이키 피코 5 토들러벨크로-5.jpg'\n",
    "]"
   ]
  },
  {
   "cell_type": "code",
   "execution_count": 91,
   "metadata": {},
   "outputs": [],
   "source": [
    "# 중복된 모델들 제거위해 unique 값 찾기\n",
    "uniqueModel = set()\n",
    "\n",
    "for shoe in shoes:\n",
    "    uniqueModel.add(shoe['model'])"
   ]
  },
  {
   "cell_type": "code",
   "execution_count": 92,
   "metadata": {},
   "outputs": [],
   "source": [
    "dupIndex = []\n",
    "\n",
    "for unique in uniqueModel:\n",
    "    i = 0\n",
    "    count = 0\n",
    "    for shoe in shoes:\n",
    "        if shoe['model'] == unique:\n",
    "            count += 1\n",
    "            if count > 1:\n",
    "                dupIndex.append(i)\n",
    "        i += 1\n"
   ]
  },
  {
   "cell_type": "code",
   "execution_count": 93,
   "metadata": {},
   "outputs": [],
   "source": [
    "dupIndex = sorted(dupIndex,reverse=True)"
   ]
  },
  {
   "cell_type": "code",
   "execution_count": 94,
   "metadata": {},
   "outputs": [
    {
     "data": {
      "text/plain": [
       "139"
      ]
     },
     "execution_count": 94,
     "metadata": {},
     "output_type": "execute_result"
    }
   ],
   "source": [
    "# 중복 모델 지우기\n",
    "for i in dupIndex:\n",
    "    shoes.pop(i)\n",
    "\n",
    "len(shoes)"
   ]
  },
  {
   "cell_type": "code",
   "execution_count": 95,
   "metadata": {},
   "outputs": [
    {
     "data": {
      "text/plain": [
       "[]"
      ]
     },
     "execution_count": 95,
     "metadata": {},
     "output_type": "execute_result"
    }
   ],
   "source": [
    "# 중복 다 지워졌는지 확인\n",
    "dupIndex = []\n",
    "\n",
    "for unique in uniqueModel:\n",
    "    i = 0\n",
    "    count = 0\n",
    "    for shoe in shoes:\n",
    "        if shoe['model'] == unique:\n",
    "            count += 1\n",
    "            if count > 1:\n",
    "                dupIndex.append(i)\n",
    "        i += 1\n",
    "\n",
    "dupIndex"
   ]
  },
  {
   "cell_type": "code",
   "execution_count": 96,
   "metadata": {},
   "outputs": [],
   "source": [
    "# colors list로 바꾸기\n",
    "uniqueModel = set()\n",
    "\n",
    "for shoe in shoes:\n",
    "    uniqueModel.add(shoe['colors'])"
   ]
  },
  {
   "cell_type": "code",
   "execution_count": 98,
   "metadata": {},
   "outputs": [],
   "source": [
    "for shoe in shoes:\n",
    "    if '/' in shoe['colors']:\n",
    "        shoe['colors'] = shoe['colors'].split('/')\n",
    "    else:\n",
    "        temp = []\n",
    "        temp.append(shoe['colors'])\n",
    "        shoe['colors'] = temp\n"
   ]
  },
  {
   "cell_type": "code",
   "execution_count": 103,
   "metadata": {},
   "outputs": [
    {
     "data": {
      "text/plain": [
       "{list}"
      ]
     },
     "execution_count": 103,
     "metadata": {},
     "output_type": "execute_result"
    }
   ],
   "source": [
    "# colors list로 바뀌었는지 확인하기\n",
    "uniqueModel = set()\n",
    "\n",
    "for shoe in shoes:\n",
    "    uniqueModel.add(type(shoe['colors']))\n",
    "\n",
    "uniqueModel"
   ]
  },
  {
   "cell_type": "code",
   "execution_count": 121,
   "metadata": {},
   "outputs": [
    {
     "data": {
      "text/plain": [
       "{'뒷굽 3cm',\n",
       " '뒷굽 4.5cm',\n",
       " '뒷굽 : 2.3cm',\n",
       " '뒷굽 : 2.5cm',\n",
       " '뒷굽 : 2.8cm',\n",
       " '뒷굽 : 2cm',\n",
       " '뒷굽 : 3.3cm',\n",
       " '뒷굽 : 3.5cm',\n",
       " '뒷굽 : 3.8cm',\n",
       " '뒷굽 : 3.8cm ',\n",
       " '뒷굽 : 3cm',\n",
       " '뒷굽 : 4.3cm',\n",
       " '뒷굽 : 4.5cm',\n",
       " '뒷굽 : 4cm',\n",
       " '뒷굽 : 5.3cm',\n",
       " '뒷굽 : 5.5cm',\n",
       " '뒷굽 : 6cm',\n",
       " '뒷굽: 2.3cm',\n",
       " '뒷굽: 2.5cm',\n",
       " '뒷굽: 2.8cm',\n",
       " '뒷굽: 2cm',\n",
       " '뒷굽: 3.5cm',\n",
       " '뒷굽: 3.8cm',\n",
       " '뒷굽: 3cm',\n",
       " '뒷굽: 4.3cm',\n",
       " '뒷굽: 4.5cm',\n",
       " '뒷굽: 4.8cm',\n",
       " '뒷굽: 4cm',\n",
       " '뒷굽: 5cm',\n",
       " '뒷굽:1.5cm',\n",
       " '뒷굽:1.8cm',\n",
       " '뒷굽:2.3cm',\n",
       " '뒷굽:2.5cm',\n",
       " '뒷굽:2.8cm',\n",
       " '뒷굽:2cm',\n",
       " '뒷굽:3.5cm',\n",
       " '뒷굽:3.8cm',\n",
       " '뒷굽:3cm',\n",
       " '뒷굽:4.3cm',\n",
       " '뒷굽:4.5cm',\n",
       " '뒷굽:4cm',\n",
       " '뒷굽:5.3cm',\n",
       " '뒷굽:5.5cm',\n",
       " '추후 업데이트 예정'}"
      ]
     },
     "execution_count": 121,
     "metadata": {},
     "output_type": "execute_result"
    }
   ],
   "source": [
    "# 뒷굽 unique\n",
    "uniqueModel = set()\n",
    "\n",
    "for shoe in shoes:\n",
    "   for key in shoe.keys():\n",
    "      if key == 'height':\n",
    "         uniqueModel.add(shoe[key])\n",
    "uniqueModel"
   ]
  },
  {
   "cell_type": "code",
   "execution_count": 122,
   "metadata": {},
   "outputs": [],
   "source": [
    "# 뒷굽 지우고 cm만 남기기\n",
    "for shoe in shoes:\n",
    "   for key in shoe.keys():\n",
    "      if key == 'height':\n",
    "         if ':' in shoe['height'] :\n",
    "            shoe['height'] = shoe['height'].split(':')[1].strip()\n",
    "         elif shoe['height'] == '추후 업데이트 예정':\n",
    "            shoe['height'] = shoe['height']\n",
    "         else :\n",
    "            shoe['height'] = shoe['height'].split(' ')[1].strip()"
   ]
  },
  {
   "cell_type": "code",
   "execution_count": 123,
   "metadata": {},
   "outputs": [
    {
     "data": {
      "text/plain": [
       "{'1.5cm',\n",
       " '1.8cm',\n",
       " '2.3cm',\n",
       " '2.5cm',\n",
       " '2.8cm',\n",
       " '2cm',\n",
       " '3.3cm',\n",
       " '3.5cm',\n",
       " '3.8cm',\n",
       " '3cm',\n",
       " '4.3cm',\n",
       " '4.5cm',\n",
       " '4.8cm',\n",
       " '4cm',\n",
       " '5.3cm',\n",
       " '5.5cm',\n",
       " '5cm',\n",
       " '6cm',\n",
       " '추후 업데이트 예정'}"
      ]
     },
     "execution_count": 123,
     "metadata": {},
     "output_type": "execute_result"
    }
   ],
   "source": [
    "# 뒷굽 unique 확인\n",
    "uniqueModel = set()\n",
    "\n",
    "for shoe in shoes:\n",
    "   for key in shoe.keys():\n",
    "      if key == 'height':\n",
    "         uniqueModel.add(shoe[key])\n",
    "uniqueModel"
   ]
  },
  {
   "cell_type": "code",
   "execution_count": 125,
   "metadata": {},
   "outputs": [],
   "source": [
    "# sizes 를 size 별 재고를 50으로 맞추기\n",
    "# 뒷굽 지우고 cm만 남기기\n",
    "for shoe in shoes:\n",
    "   for key in shoe.keys():\n",
    "      if key == 'sizes':\n",
    "        sizeAmount = {}\n",
    "        for size in shoe['sizes']:\n",
    "           sizeAmount[size] = 50\n",
    "        shoe['sizes'] = sizeAmount"
   ]
  },
  {
   "cell_type": "code",
   "execution_count": 135,
   "metadata": {},
   "outputs": [
    {
     "data": {
      "text/plain": [
       "{'아디다스': 47, '컨버스': 29, '나이키': 63}"
      ]
     },
     "execution_count": 135,
     "metadata": {},
     "output_type": "execute_result"
    }
   ],
   "source": [
    "# brand 별로 신발 개수 몇개인지 파악하기\n",
    "test = {}\n",
    "for shoe in shoes:\n",
    "    if shoe['brand'] not in test.keys():\n",
    "        test[shoe['brand']] = 1\n",
    "    else :\n",
    "        test[shoe['brand']] += 1\n",
    "\n",
    "test"
   ]
  },
  {
   "cell_type": "code",
   "execution_count": 138,
   "metadata": {},
   "outputs": [],
   "source": [
    "with open('./final_json/shoes.json','w') as f:\n",
    "    json.dump(shoes,f)"
   ]
  },
  {
   "cell_type": "code",
   "execution_count": null,
   "metadata": {},
   "outputs": [],
   "source": []
  }
 ],
 "metadata": {
  "kernelspec": {
   "display_name": "tensorflow",
   "language": "python",
   "name": "python3"
  },
  "language_info": {
   "codemirror_mode": {
    "name": "ipython",
    "version": 3
   },
   "file_extension": ".py",
   "mimetype": "text/x-python",
   "name": "python",
   "nbconvert_exporter": "python",
   "pygments_lexer": "ipython3",
   "version": "3.11.0"
  },
  "orig_nbformat": 4
 },
 "nbformat": 4,
 "nbformat_minor": 2
}
